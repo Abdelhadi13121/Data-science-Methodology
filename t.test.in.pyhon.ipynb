{
 "cells": [
  {
   "cell_type": "markdown",
   "metadata": {},
   "source": [
    "# Online data"
   ]
  },
  {
   "cell_type": "code",
   "execution_count": 2,
   "metadata": {},
   "outputs": [],
   "source": [
    "url = 'https://github.com/Abdelhadi13121/Data-science-Methodology/raw/refs/heads/main/onlineshop.xlsx'"
   ]
  },
  {
   "cell_type": "code",
   "execution_count": 3,
   "metadata": {},
   "outputs": [],
   "source": [
    "import pandas as pd"
   ]
  },
  {
   "cell_type": "code",
   "execution_count": 4,
   "metadata": {},
   "outputs": [],
   "source": [
    "online = pd.read_excel(url)"
   ]
  },
  {
   "cell_type": "code",
   "execution_count": 5,
   "metadata": {},
   "outputs": [
    {
     "data": {
      "text/html": [
       "<div>\n",
       "<style scoped>\n",
       "    .dataframe tbody tr th:only-of-type {\n",
       "        vertical-align: middle;\n",
       "    }\n",
       "\n",
       "    .dataframe tbody tr th {\n",
       "        vertical-align: top;\n",
       "    }\n",
       "\n",
       "    .dataframe thead th {\n",
       "        text-align: right;\n",
       "    }\n",
       "</style>\n",
       "<table border=\"1\" class=\"dataframe\">\n",
       "  <thead>\n",
       "    <tr style=\"text-align: right;\">\n",
       "      <th></th>\n",
       "      <th>DATE</th>\n",
       "      <th>USER_ID</th>\n",
       "      <th>AGE</th>\n",
       "      <th>GENDER</th>\n",
       "      <th>TYPE</th>\n",
       "      <th>CREDIT_SCORE</th>\n",
       "      <th>LIFETIME</th>\n",
       "      <th>PAYMENT_METHOD</th>\n",
       "      <th>TURNOVER</th>\n",
       "      <th>SENDBACK</th>\n",
       "      <th>VIDEO_AD</th>\n",
       "      <th>CONVERTED</th>\n",
       "    </tr>\n",
       "  </thead>\n",
       "  <tbody>\n",
       "    <tr>\n",
       "      <th>0</th>\n",
       "      <td>2023-10-02</td>\n",
       "      <td>cardiB</td>\n",
       "      <td>27</td>\n",
       "      <td>female</td>\n",
       "      <td>NaN</td>\n",
       "      <td>3</td>\n",
       "      <td>8</td>\n",
       "      <td>bank transfer</td>\n",
       "      <td>44</td>\n",
       "      <td>False</td>\n",
       "      <td>False</td>\n",
       "      <td>0</td>\n",
       "    </tr>\n",
       "    <tr>\n",
       "      <th>1</th>\n",
       "      <td>2023-10-02</td>\n",
       "      <td>natalie_hershlag</td>\n",
       "      <td>42</td>\n",
       "      <td>female</td>\n",
       "      <td>NaN</td>\n",
       "      <td>4</td>\n",
       "      <td>10</td>\n",
       "      <td>BNPL</td>\n",
       "      <td>34</td>\n",
       "      <td>False</td>\n",
       "      <td>False</td>\n",
       "      <td>0</td>\n",
       "    </tr>\n",
       "    <tr>\n",
       "      <th>2</th>\n",
       "      <td>2023-10-02</td>\n",
       "      <td>babe_ruth</td>\n",
       "      <td>48</td>\n",
       "      <td>male</td>\n",
       "      <td>1.0</td>\n",
       "      <td>2</td>\n",
       "      <td>12</td>\n",
       "      <td>BNPL</td>\n",
       "      <td>34</td>\n",
       "      <td>False</td>\n",
       "      <td>False</td>\n",
       "      <td>0</td>\n",
       "    </tr>\n",
       "    <tr>\n",
       "      <th>3</th>\n",
       "      <td>2023-10-02</td>\n",
       "      <td>homlesspistachio</td>\n",
       "      <td>60</td>\n",
       "      <td>male</td>\n",
       "      <td>1.0</td>\n",
       "      <td>5</td>\n",
       "      <td>9</td>\n",
       "      <td>paypal</td>\n",
       "      <td>500</td>\n",
       "      <td>False</td>\n",
       "      <td>False</td>\n",
       "      <td>0</td>\n",
       "    </tr>\n",
       "    <tr>\n",
       "      <th>4</th>\n",
       "      <td>2023-10-02</td>\n",
       "      <td>chrstian_hauff</td>\n",
       "      <td>93</td>\n",
       "      <td>male</td>\n",
       "      <td>1.0</td>\n",
       "      <td>5</td>\n",
       "      <td>12</td>\n",
       "      <td>credit card</td>\n",
       "      <td>43</td>\n",
       "      <td>False</td>\n",
       "      <td>True</td>\n",
       "      <td>0</td>\n",
       "    </tr>\n",
       "  </tbody>\n",
       "</table>\n",
       "</div>"
      ],
      "text/plain": [
       "        DATE           USER_ID  AGE  GENDER  TYPE  CREDIT_SCORE  LIFETIME  \\\n",
       "0 2023-10-02            cardiB   27  female   NaN             3         8   \n",
       "1 2023-10-02  natalie_hershlag   42  female   NaN             4        10   \n",
       "2 2023-10-02         babe_ruth   48    male   1.0             2        12   \n",
       "3 2023-10-02  homlesspistachio   60    male   1.0             5         9   \n",
       "4 2023-10-02    chrstian_hauff   93    male   1.0             5        12   \n",
       "\n",
       "  PAYMENT_METHOD  TURNOVER  SENDBACK  VIDEO_AD  CONVERTED  \n",
       "0  bank transfer        44     False     False          0  \n",
       "1           BNPL        34     False     False          0  \n",
       "2           BNPL        34     False     False          0  \n",
       "3         paypal       500     False     False          0  \n",
       "4    credit card        43     False      True          0  "
      ]
     },
     "execution_count": 5,
     "metadata": {},
     "output_type": "execute_result"
    }
   ],
   "source": [
    "online.head()"
   ]
  },
  {
   "cell_type": "code",
   "execution_count": 17,
   "metadata": {},
   "outputs": [],
   "source": [
    "from scipy.stats import shapiro, ttest_ind, ttest_rel,ttest_1samp"
   ]
  },
  {
   "cell_type": "code",
   "execution_count": 15,
   "metadata": {},
   "outputs": [
    {
     "data": {
      "text/plain": [
       "463"
      ]
     },
     "execution_count": 15,
     "metadata": {},
     "output_type": "execute_result"
    }
   ],
   "source": [
    "len(online)"
   ]
  },
  {
   "cell_type": "code",
   "execution_count": 10,
   "metadata": {},
   "outputs": [
    {
     "data": {
      "text/plain": [
       "ShapiroResult(statistic=np.float64(0.7577921923808482), pvalue=np.float64(1.60791662287639e-25))"
      ]
     },
     "execution_count": 10,
     "metadata": {},
     "output_type": "execute_result"
    }
   ],
   "source": [
    "shapiro(online['TURNOVER'])"
   ]
  },
  {
   "cell_type": "code",
   "execution_count": 19,
   "metadata": {},
   "outputs": [
    {
     "data": {
      "text/plain": [
       "TtestResult(statistic=np.float64(14.753524792721816), pvalue=np.float64(1.2207430000583607e-40), df=np.int64(462))"
      ]
     },
     "execution_count": 19,
     "metadata": {},
     "output_type": "execute_result"
    }
   ],
   "source": [
    "ttest_1samp(online['TURNOVER'], popmean=50)"
   ]
  },
  {
   "cell_type": "code",
   "execution_count": 20,
   "metadata": {},
   "outputs": [
    {
     "data": {
      "text/plain": [
       "TtestResult(statistic=np.float64(14.753524792721816), pvalue=np.float64(6.103715000291804e-41), df=np.int64(462))"
      ]
     },
     "execution_count": 20,
     "metadata": {},
     "output_type": "execute_result"
    }
   ],
   "source": [
    "ttest_1samp(online['TURNOVER'], popmean=50, alternative='greater')"
   ]
  },
  {
   "cell_type": "code",
   "execution_count": 21,
   "metadata": {},
   "outputs": [],
   "source": [
    "import matplotlib.pyplot as plt"
   ]
  },
  {
   "cell_type": "code",
   "execution_count": 25,
   "metadata": {},
   "outputs": [
    {
     "data": {
      "text/plain": [
       "Text(0.5, 1.0, 'Distribution of TURNOVER')"
      ]
     },
     "execution_count": 25,
     "metadata": {},
     "output_type": "execute_result"
    },
    {
     "data": {
      "image/png": "[encoded data removed]",
      "text/plain": [
       "<Figure size 640x480 with 1 Axes>"
      ]
     },
     "metadata": {},
     "output_type": "display_data"
    }
   ],
   "source": [
    "plt.hist(online['TURNOVER'])\n",
    "plt.title('Distribution of TURNOVER', fontsize = 16)"
   ]
  },
  {
   "cell_type": "markdown",
   "metadata": {},
   "source": [
    "# Olive data"
   ]
  },
  {
   "cell_type": "code",
   "execution_count": 27,
   "metadata": {},
   "outputs": [],
   "source": [
    "olive = pd.read_csv('https://raw.githubusercontent.com/Abdelhadi13121/Data-science-Methodology/refs/heads/main/olive_oil.csv')"
   ]
  },
  {
   "cell_type": "code",
   "execution_count": 29,
   "metadata": {},
   "outputs": [
    {
     "data": {
      "text/plain": [
       "DAY               1\n",
       "MONTH             1\n",
       "PRODUCER          1\n",
       "OLIVE_OIL_TYPE    1\n",
       "SHIFT             1\n",
       "ACIDITY_LEVEL     1\n",
       "OLIVE_VARIETY     1\n",
       "QUALITY_SCORE     1\n",
       "dtype: int64"
      ]
     },
     "execution_count": 29,
     "metadata": {},
     "output_type": "execute_result"
    }
   ],
   "source": [
    "olive.isna().sum()"
   ]
  },
  {
   "cell_type": "code",
   "execution_count": 39,
   "metadata": {},
   "outputs": [
    {
     "data": {
      "text/plain": [
       "DAY               20\n",
       "MONTH             20\n",
       "PRODUCER          20\n",
       "OLIVE_OIL_TYPE    20\n",
       "SHIFT             20\n",
       "ACIDITY_LEVEL     20\n",
       "OLIVE_VARIETY     20\n",
       "QUALITY_SCORE     20\n",
       "dtype: int64"
      ]
     },
     "execution_count": 39,
     "metadata": {},
     "output_type": "execute_result"
    }
   ],
   "source": [
    "olive.notna().sum()"
   ]
  },
  {
   "cell_type": "markdown",
   "metadata": {},
   "source": [
    "**`Solution :`**\n",
    "\n",
    "**Task 1: Hypothesis Testing Basics**\n",
    "\n",
    "**Scenario A:**\n",
    "\n",
    "-   **Null Hypothesis (H₀):** There is no difference in acidity levels between olives from the new supplier and the current supplier.\n",
    "\n",
    "-   **Alternative Hypothesis (H₁):** The acidity levels of olives from the new supplier are significantly different from those of the current supplier.\n",
    "\n",
    "**Scenario B:**\n",
    "\n",
    "-   **Null Hypothesis (H₀):** The mean quality score of premium olive oil is equal to 800\n",
    "\n",
    "-   **Alternative Hypothesis (H₁):** The mean quality score of premium olive oil is greater than 800\n"
   ]
  },
  {
   "cell_type": "code",
   "execution_count": 45,
   "metadata": {},
   "outputs": [
    {
     "data": {
      "text/plain": [
       "20"
      ]
     },
     "execution_count": 45,
     "metadata": {},
     "output_type": "execute_result"
    }
   ],
   "source": [
    "sum(olive['ACIDITY_LEVEL'].notna())"
   ]
  },
  {
   "cell_type": "code",
   "execution_count": 52,
   "metadata": {},
   "outputs": [],
   "source": [
    "from scipy.stats import shapiro, ttest_1samp, ttest_ind, ttest_rel"
   ]
  },
  {
   "cell_type": "code",
   "execution_count": 55,
   "metadata": {},
   "outputs": [
    {
     "data": {
      "text/plain": [
       "ShapiroResult(statistic=np.float64(0.9454228782740937), pvalue=np.float64(0.30289324929914996))"
      ]
     },
     "execution_count": 55,
     "metadata": {},
     "output_type": "execute_result"
    }
   ],
   "source": [
    "clean_olive = olive.dropna()\n",
    "shapiro(clean_olive['QUALITY_SCORE'])"
   ]
  },
  {
   "cell_type": "code",
   "execution_count": 56,
   "metadata": {},
   "outputs": [
    {
     "data": {
      "text/plain": [
       "(array([2., 2., 1., 1., 3., 1., 3., 2., 1., 4.]),\n",
       " array([822. , 839.7, 857.4, 875.1, 892.8, 910.5, 928.2, 945.9, 963.6,\n",
       "        981.3, 999. ]),\n",
       " <BarContainer object of 10 artists>)"
      ]
     },
     "execution_count": 56,
     "metadata": {},
     "output_type": "execute_result"
    },
    {
     "data": {
      "image/png": "[encoded data removed]",
      "text/plain": [
       "<Figure size 640x480 with 1 Axes>"
      ]
     },
     "metadata": {},
     "output_type": "display_data"
    }
   ],
   "source": [
    "plt.hist(clean_olive['QUALITY_SCORE'])"
   ]
  },
  {
   "cell_type": "code",
   "execution_count": 58,
   "metadata": {},
   "outputs": [
    {
     "data": {
      "text/plain": [
       "TtestResult(statistic=np.float64(9.342212868465122), pvalue=np.float64(7.783549997457483e-09), df=np.int64(19))"
      ]
     },
     "execution_count": 58,
     "metadata": {},
     "output_type": "execute_result"
    }
   ],
   "source": [
    "ttest_1samp(clean_olive['QUALITY_SCORE'], popmean=800, alternative='greater')"
   ]
  },
  {
   "cell_type": "markdown",
   "metadata": {},
   "source": [
    "-   There is strong evidence that the true mean of `QUALITY_SCORE` is greater than 800."
   ]
  },
  {
   "cell_type": "markdown",
   "metadata": {},
   "source": [
    "**Task 4: Exploring Other Types of t-Tests**\n",
    "\n",
    "4.  Understand the differences between t-test types:\n",
    "\n",
    "**Two-Sample t-Test:** Compare the acidity levels of olives from two suppliers (e.g., `Supplier A` and `Supplier B`). Use: "
   ]
  },
  {
   "cell_type": "code",
   "execution_count": 67,
   "metadata": {},
   "outputs": [],
   "source": [
    "olive['ACIDITY_LEVEL_B'] = [0.25, 0.29, 0.22, 0.22, 0.32, 0.28, 0.29, 0.29, 0.39, 0.25, None, 0.34, 0.31, 0.28, 0.29, 0.30, 0.34, 0.30, 0.30, 0.29, 0.26]"
   ]
  },
  {
   "cell_type": "code",
   "execution_count": 64,
   "metadata": {},
   "outputs": [
    {
     "data": {
      "text/plain": [
       "DAY                  1\n",
       "MONTH                1\n",
       "PRODUCER             1\n",
       "OLIVE_OIL_TYPE       1\n",
       "SHIFT                1\n",
       "ACIDITY_LEVEL        1\n",
       "OLIVE_VARIETY        1\n",
       "QUALITY_SCORE        1\n",
       "ACIDITY_LEVEL_B      1\n",
       "QUALITY_SCORE_NEW    0\n",
       "dtype: int64"
      ]
     },
     "execution_count": 64,
     "metadata": {},
     "output_type": "execute_result"
    }
   ],
   "source": [
    "olive.head()\n",
    "olive.isna().sum()"
   ]
  },
  {
   "cell_type": "code",
   "execution_count": 72,
   "metadata": {},
   "outputs": [],
   "source": [
    "olive1 = olive.dropna()"
   ]
  },
  {
   "cell_type": "code",
   "execution_count": 66,
   "metadata": {},
   "outputs": [
    {
     "data": {
      "text/plain": [
       "TtestResult(statistic=np.float64(0.4779333565882858), pvalue=np.float64(0.63543564514203), df=np.float64(38.0))"
      ]
     },
     "execution_count": 66,
     "metadata": {},
     "output_type": "execute_result"
    }
   ],
   "source": [
    "ttest_ind(olive1['ACIDITY_LEVEL'], olive1['ACIDITY_LEVEL_B'], equal_var=True)"
   ]
  },
  {
   "cell_type": "markdown",
   "metadata": {},
   "source": [
    "**p-Value**: The p-value of 0.6354 is greater than the significance level of 0.05. Therefore, we **fail to reject the null hypothesis**.\n",
    "\n",
    "This indicates that there is **no significant difference** in the mean acidity levels between the two groups.\n"
   ]
  },
  {
   "cell_type": "markdown",
   "metadata": {},
   "source": [
    "**Paired t-Test: Evaluating New Pressing Method**\n"
   ]
  },
  {
   "cell_type": "code",
   "execution_count": 71,
   "metadata": {},
   "outputs": [],
   "source": [
    "olive['QUALITY_SCORE_NEW'] = [902, 883, 945, 910, 922, 905, 940, 960, 860, 855, 995, 960, 870, 940, 1000, 982, 992, 1002, 835, 830, 890]"
   ]
  },
  {
   "cell_type": "code",
   "execution_count": 74,
   "metadata": {},
   "outputs": [
    {
     "data": {
      "text/plain": [
       "TtestResult(statistic=np.float64(-0.05234302123445665), pvalue=np.float64(0.5205991063420559), df=np.int64(19))"
      ]
     },
     "execution_count": 74,
     "metadata": {},
     "output_type": "execute_result"
    }
   ],
   "source": [
    "ttest_rel(olive1['QUALITY_SCORE'], olive1['QUALITY_SCORE_NEW'], alternative='greater')"
   ]
  },
  {
   "cell_type": "markdown",
   "metadata": {},
   "source": [
    "The **p-value** is 0.52060, which is much greater than the significance level of 0.05.\n",
    "\n",
    "-   Therefore, we **fail to reject the null hypothesis H0​. This means that there is no statistically significant evidence** to suggest that the new pressing method improves the quality score compared to the traditional method.\n",
    "\n",
    "task 5 :\n",
    "\n",
    "**Decision Based on the Results**\n",
    "\n",
    "**1. For the One-Sample t-Test (Quality Score of Premium Olive Oil)**:\n",
    "\n",
    "-   **Result**: We **reject the null hypothesis** (the mean quality score is equal to 800), as the p-value is very small.\n",
    "\n",
    "-   **Decision**:\n",
    "\n",
    "    -   Since the mean quality score is significantly higher than 800, the company should:\n",
    "\n",
    "        -   **Market the premium quality**: Emphasize the high quality of the product, which is superior to the industry standard.\n",
    "\n",
    "        -   **Consider price adjustment**: Due to the superior quality, a price increase might be justified.\n",
    "\n",
    "        -   **Continue quality control**: Ensure that the quality remains consistently high to support the brand reputation.\n",
    "\n",
    "**2. For the Two-Sample t-Test (Acidity Levels between Two Suppliers)**:\n",
    "\n",
    "-   **Result**: We **fail to reject the null hypothesis** because the p-value (0.6354) is greater than 0.05.\n",
    "\n",
    "-   **Decision**:\n",
    "\n",
    "    -   Since there is no significant difference in acidity levels between the two suppliers, the company can:\n",
    "\n",
    "        -   **Continue sourcing from both suppliers**: There is no strong evidence to prefer one supplier over the other based on acidity.\n",
    "\n",
    "        -   **Investigate other factors**: Consider factors such as cost, delivery time, or reliability when choosing between suppliers.\n",
    "\n",
    "**3. For the Paired t-Test (New Pressing Method)**:\n",
    "\n",
    "-   **Result**: We **fail to reject the null hypothesis** (the new method does not improve the quality score), with a p-value of 0.5206.\n",
    "\n",
    "-   **Decision**:\n",
    "\n",
    "    -   Since there is no significant evidence that the new pressing method improves the quality score:\n",
    "\n",
    "        -   **Stick with the traditional method**: If the goal was to improve quality, there is no justification to adopt the new method based on this data.\n",
    "\n",
    "        -   **Reassess the new method**: Further testing could be done with more data or a different approach to evaluate the effectiveness of the new method."
   ]
  }
 ],
 "metadata": {
  "kernelspec": {
   "display_name": "Python 3",
   "language": "python",
   "name": "python3"
  },
  "language_info": {
   "codemirror_mode": {
    "name": "ipython",
    "version": 3
   },
   "file_extension": ".py",
   "mimetype": "text/x-python",
   "name": "python",
   "nbconvert_exporter": "python",
   "pygments_lexer": "ipython3",
   "version": "3.12.7"
  }
 },
 "nbformat": 4,
 "nbformat_minor": 2
}
